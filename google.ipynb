{
 "cells": [
  {
   "cell_type": "code",
   "execution_count": 85,
   "metadata": {},
   "outputs": [],
   "source": [
    "def continous_xor(start,length):\n",
    "    x = 0\n",
    "    for i in range(start, start+length):\n",
    "        x = x^i\n",
    "    return x\n",
    "\n",
    "def continous_xor(start,length):\n",
    "    if start % 2 == 0:\n",
    "        if length % 4 == 0:\n",
    "            return 0\n",
    "        elif length % 4 == 1:\n",
    "            return start+length-1\n",
    "        elif length % 4 == 2:\n",
    "            return 1\n",
    "        else:\n",
    "            return (start+length-1)^1\n",
    "    elif start % 2 == 1:\n",
    "        if length % 4 == 1:\n",
    "            return start\n",
    "        elif length % 4 == 2:\n",
    "            return start ^ (start + length - 1)\n",
    "        elif length % 4 == 3:\n",
    "            return start - 1\n",
    "        else:\n",
    "            return (start-1) ^ (start + length - 1)\n",
    "\n",
    "for i in range(1,500):\n",
    "    for j in range(1,500):\n",
    "        if continous_xor(i,j) != continous_xor2(i,j):\n",
    "            print(i, j, continous_xor(i,j), continous_xor2(i,j))\n",
    "        \n",
    "\n",
    "        "
   ]
  },
  {
   "cell_type": "code",
   "execution_count": 90,
   "metadata": {},
   "outputs": [
    {
     "name": "stdout",
     "output_type": "stream",
     "text": [
      "7 4\n",
      "5 7\n",
      "11 6\n",
      "13 1\n",
      "15 0\n",
      "13 3\n",
      "11 2\n",
      "5 13\n",
      "7 12\n",
      "5 15\n",
      "27 14\n",
      "29 9\n",
      "31 8\n",
      "29 11\n",
      "27 10\n",
      "5 21\n",
      "7 20\n",
      "5 23\n",
      "11 22\n",
      "13 17\n",
      "15 16\n",
      "13 19\n",
      "11 18\n",
      "5 29\n",
      "7 28\n",
      "5 31\n",
      "59 30\n",
      "61 25\n",
      "63 24\n",
      "61 27\n",
      "59 26\n",
      "5 37\n",
      "7 36\n",
      "5 39\n",
      "11 38\n",
      "13 33\n",
      "15 32\n",
      "13 35\n",
      "11 34\n",
      "5 45\n",
      "7 44\n",
      "5 47\n",
      "27 46\n",
      "29 41\n",
      "31 40\n",
      "29 43\n",
      "27 42\n",
      "5 53\n",
      "7 52\n",
      "5 55\n",
      "11 54\n",
      "13 49\n",
      "15 48\n",
      "13 51\n",
      "11 50\n",
      "5 61\n",
      "7 60\n",
      "5 63\n",
      "123 62\n",
      "125 57\n",
      "127 56\n",
      "125 59\n",
      "123 58\n",
      "5 69\n",
      "7 68\n",
      "5 71\n",
      "11 70\n",
      "13 65\n",
      "15 64\n",
      "13 67\n",
      "11 66\n",
      "5 77\n",
      "7 76\n",
      "5 79\n",
      "27 78\n",
      "29 73\n",
      "31 72\n",
      "29 75\n",
      "27 74\n",
      "5 85\n",
      "7 84\n",
      "5 87\n",
      "11 86\n",
      "13 81\n",
      "15 80\n",
      "13 83\n",
      "11 82\n",
      "5 93\n",
      "7 92\n",
      "5 95\n",
      "59 94\n",
      "61 89\n",
      "63 88\n",
      "61 91\n",
      "59 90\n",
      "5 101\n",
      "7 100\n",
      "5 103\n",
      "11 102\n"
     ]
    }
   ],
   "source": [
    "for x in range(1,100):\n",
    "    print((x+5)^x, 5^x)"
   ]
  },
  {
   "cell_type": "code",
   "execution_count": null,
   "metadata": {},
   "outputs": [
    {
     "ename": "",
     "evalue": "",
     "output_type": "error",
     "traceback": [
      "\u001b[1;31mThe file 'queue.py' seems to be overriding built in modules and interfering with the startup of the kernel. Consider renaming the file and starting the kernel again..\n",
      "Click <a href='https://aka.ms/kernelFailuresOverridingBuiltInModules'>here</a> for more info."
     ]
    }
   ],
   "source": []
  },
  {
   "cell_type": "code",
   "execution_count": null,
   "metadata": {},
   "outputs": [
    {
     "ename": "",
     "evalue": "",
     "output_type": "error",
     "traceback": [
      "\u001b[1;31mThe file 'queue.py' seems to be overriding built in modules and interfering with the startup of the kernel. Consider renaming the file and starting the kernel again..\n",
      "Click <a href='https://aka.ms/kernelFailuresOverridingBuiltInModules'>here</a> for more info."
     ]
    }
   ],
   "source": [
    "i = 1\n",
    "while True:\n",
    "    print(i)\n",
    "    i+= 1\n",
    "    if i > 100:\n",
    "        break"
   ]
  },
  {
   "cell_type": "code",
   "execution_count": null,
   "metadata": {},
   "outputs": [],
   "source": []
  }
 ],
 "metadata": {
  "kernelspec": {
   "display_name": "Python 3.10.6 64-bit",
   "language": "python",
   "name": "python3"
  },
  "language_info": {
   "codemirror_mode": {
    "name": "ipython",
    "version": 3
   },
   "file_extension": ".py",
   "mimetype": "text/x-python",
   "name": "python",
   "nbconvert_exporter": "python",
   "pygments_lexer": "ipython3",
   "version": "3.10.6"
  },
  "orig_nbformat": 4,
  "vscode": {
   "interpreter": {
    "hash": "e7370f93d1d0cde622a1f8e1c04877d8463912d04d973331ad4851f04de6915a"
   }
  }
 },
 "nbformat": 4,
 "nbformat_minor": 2
}
